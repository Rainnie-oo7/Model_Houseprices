{
 "cells": [
  {
   "cell_type": "code",
   "execution_count": null,
   "id": "1c91a52e",
   "metadata": {
    "scrolled": true
   },
   "outputs": [],
   "source": [
    "import turicreate as tc\n",
    "import graphlab as gl\n",
    "data = tc.SFrame('people-example.csv')\n",
    "\n"
   ]
  },
  {
   "cell_type": "markdown",
   "id": "edfde6eb",
   "metadata": {},
   "source": [
    "data.tail()  # view-end of the table\n",
    "data['age'].show()\n",
    "data['Country']\n",
    "data['age'].mean()\n",
    "data['age'].min() + data['age'].max()"
   ]
  },
  {
   "cell_type": "markdown",
   "id": "9de08b2b",
   "metadata": {},
   "source": [
    "#Create new columns in our SFrame\n",
    "data\n",
    "data['Full Name'] = data['First Name'] + ' ' + data['Last Name']\n",
    "data\n",
    "data['age'] * data['age']"
   ]
  },
  {
   "cell_type": "markdown",
   "id": "82b0de21",
   "metadata": {},
   "source": [
    "data.head() \"\"\"view first few lines in this case see all the table bc it's small\"\"\"\n",
    "\n",
    "data.show() \"\"\"Relative Häufigkeiten anzeigen. Relative Häufigkeit eines Reihenwertes in Abhängigkeit von allen Reihenwerten\"\"\""
   ]
  },
  {
   "cell_type": "markdown",
   "id": "c38d25fb",
   "metadata": {},
   "source": [
    "#i dont know is it docu??\n",
    "data??"
   ]
  },
  {
   "cell_type": "code",
   "execution_count": null,
   "id": "3ea2579b",
   "metadata": {},
   "outputs": [],
   "source": [
    "#Use the apply function to do a advance transformation of our data #Begin with showment ahummm\n",
    "data['Country']\n",
    "\n",
    "data['Country'].show()\n",
    "\n",
    "def transform_country(country):\n",
    "\n",
    "    if country == 'USA':\n",
    "\n",
    "        return 'United States'\n",
    "\n",
    "    else:\n",
    "\n",
    "        return country\n",
    "data['Country'].apply(transform_country)       #shows the list definetely.\n",
    "\n"
   ]
  },
  {
   "cell_type": "code",
   "execution_count": null,
   "id": "98bc2627",
   "metadata": {
    "collapsed": true
   },
   "outputs": [],
   "source": [
    "transform_country('hello')"
   ]
  },
  {
   "cell_type": "markdown",
   "id": "7b3347b0",
   "metadata": {},
   "source": [
    "if hello == 'USA':           #FALSE\n",
    "\n",
    "    return 'United States'   #~\n",
    "\n",
    "else:\n",
    "\n",
    "    return hello             #Output hello\n",
    "\n"
   ]
  },
  {
   "cell_type": "code",
   "execution_count": null,
   "id": "ce996616",
   "metadata": {
    "scrolled": true
   },
   "outputs": [],
   "source": [
    "\n",
    "transform_country('USA')"
   ]
  },
  {
   "cell_type": "code",
   "execution_count": null,
   "id": "b28c1860",
   "metadata": {},
   "outputs": [],
   "source": [
    "\n",
    "graph = graphlab.SFrames('people-example.csv')\n",
    "graph.show()\n",
    "#graph.canvas.set_target('ipynb')"
   ]
  },
  {
   "cell_type": "code",
   "execution_count": null,
   "id": "a53325cf",
   "metadata": {},
   "outputs": [],
   "source": []
  }
 ],
 "metadata": {
  "celltoolbar": "Raw Cell Format",
  "kernelspec": {
   "display_name": "Python 3",
   "language": "python",
   "name": "python3"
  },
  "language_info": {
   "codemirror_mode": {
    "name": "ipython",
    "version": 3
   },
   "file_extension": ".py",
   "mimetype": "text/x-python",
   "name": "python",
   "nbconvert_exporter": "python",
   "pygments_lexer": "ipython3",
   "version": "3.6.9"
  }
 },
 "nbformat": 4,
 "nbformat_minor": 5
}
